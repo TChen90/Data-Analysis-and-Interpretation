{
  "nbformat": 4,
  "nbformat_minor": 0,
  "metadata": {
    "kernelspec": {
      "display_name": "Python 3",
      "language": "python",
      "name": "python3"
    },
    "language_info": {
      "codemirror_mode": {
        "name": "ipython",
        "version": 3
      },
      "file_extension": ".py",
      "mimetype": "text/x-python",
      "name": "python",
      "nbconvert_exporter": "python",
      "pygments_lexer": "ipython3",
      "version": "3.7.1"
    },
    "colab": {
      "name": "01 Data Management and Visualization - Week 2 Running Your First Program.ipynb",
      "version": "0.3.2",
      "provenance": [],
      "collapsed_sections": []
    }
  },
  "cells": [
    {
      "cell_type": "code",
      "metadata": {
        "id": "1MdC_8KFps3U",
        "colab_type": "code",
        "colab": {}
      },
      "source": [
        "import pandas as pd"
      ],
      "execution_count": 0,
      "outputs": []
    },
    {
      "cell_type": "code",
      "metadata": {
        "id": "fxEw30pGps3c",
        "colab_type": "code",
        "colab": {}
      },
      "source": [
        "df = pd.read_csv('gapminder.csv',\n",
        "                low_memory=False)"
      ],
      "execution_count": 0,
      "outputs": []
    },
    {
      "cell_type": "code",
      "metadata": {
        "id": "xKKaRr3kps3j",
        "colab_type": "code",
        "outputId": "ea50d8ee-fd58-48ee-f1ce-3902dc8422c3",
        "colab": {
          "base_uri": "https://localhost:8080/",
          "height": 35
        }
      },
      "source": [
        "print('There are ' + str(df.shape[0]) + ' rows and ' + str(df.shape[1]) + ' variables in the dataset')"
      ],
      "execution_count": 16,
      "outputs": [
        {
          "output_type": "stream",
          "text": [
            "There are 213 rows and 16 variables in the dataset\n"
          ],
          "name": "stdout"
        }
      ]
    },
    {
      "cell_type": "code",
      "metadata": {
        "id": "zfqI6Nenps3p",
        "colab_type": "code",
        "outputId": "7dfcd84b-b27a-48ff-b9d0-5401fed3017a",
        "colab": {
          "base_uri": "https://localhost:8080/",
          "height": 403
        }
      },
      "source": [
        "df.info()"
      ],
      "execution_count": 17,
      "outputs": [
        {
          "output_type": "stream",
          "text": [
            "<class 'pandas.core.frame.DataFrame'>\n",
            "RangeIndex: 213 entries, 0 to 212\n",
            "Data columns (total 16 columns):\n",
            "country                 213 non-null object\n",
            "incomeperperson         213 non-null object\n",
            "alcconsumption          213 non-null object\n",
            "armedforcesrate         213 non-null object\n",
            "breastcancerper100th    213 non-null object\n",
            "co2emissions            213 non-null object\n",
            "femaleemployrate        213 non-null object\n",
            "hivrate                 213 non-null object\n",
            "internetuserate         213 non-null object\n",
            "lifeexpectancy          213 non-null object\n",
            "oilperperson            213 non-null object\n",
            "polityscore             213 non-null object\n",
            "relectricperperson      213 non-null object\n",
            "suicideper100th         213 non-null object\n",
            "employrate              213 non-null object\n",
            "urbanrate               213 non-null object\n",
            "dtypes: object(16)\n",
            "memory usage: 26.7+ KB\n"
          ],
          "name": "stdout"
        }
      ]
    },
    {
      "cell_type": "markdown",
      "metadata": {
        "id": "JEKZ2Idzps3u",
        "colab_type": "text"
      },
      "source": [
        "Convert 'internetuserate', 'polityscore', 'femaleemployrate', and 'employrate' to numeric variables"
      ]
    },
    {
      "cell_type": "code",
      "metadata": {
        "id": "74nibhCLps3x",
        "colab_type": "code",
        "colab": {}
      },
      "source": [
        "num_cols =  ['internetuserate', 'polityscore', 'femaleemployrate', 'employrate']\n",
        "for col in num_cols:\n",
        "    df[col] = pd.to_numeric(df[col], errors='coerce')"
      ],
      "execution_count": 0,
      "outputs": []
    },
    {
      "cell_type": "code",
      "metadata": {
        "id": "WgwkfI7Fps31",
        "colab_type": "code",
        "outputId": "79625558-3766-40d0-806e-d8804d50cb26",
        "colab": {
          "base_uri": "https://localhost:8080/",
          "height": 403
        }
      },
      "source": [
        "df.info()"
      ],
      "execution_count": 19,
      "outputs": [
        {
          "output_type": "stream",
          "text": [
            "<class 'pandas.core.frame.DataFrame'>\n",
            "RangeIndex: 213 entries, 0 to 212\n",
            "Data columns (total 16 columns):\n",
            "country                 213 non-null object\n",
            "incomeperperson         213 non-null object\n",
            "alcconsumption          213 non-null object\n",
            "armedforcesrate         213 non-null object\n",
            "breastcancerper100th    213 non-null object\n",
            "co2emissions            213 non-null object\n",
            "femaleemployrate        178 non-null float64\n",
            "hivrate                 213 non-null object\n",
            "internetuserate         192 non-null float64\n",
            "lifeexpectancy          213 non-null object\n",
            "oilperperson            213 non-null object\n",
            "polityscore             161 non-null float64\n",
            "relectricperperson      213 non-null object\n",
            "suicideper100th         213 non-null object\n",
            "employrate              178 non-null float64\n",
            "urbanrate               213 non-null object\n",
            "dtypes: float64(4), object(12)\n",
            "memory usage: 26.7+ KB\n"
          ],
          "name": "stdout"
        }
      ]
    },
    {
      "cell_type": "code",
      "metadata": {
        "id": "to2FL-Gips34",
        "colab_type": "code",
        "outputId": "43b7591c-924c-4e64-f07d-14e78940f7cb",
        "colab": {
          "base_uri": "https://localhost:8080/",
          "height": 1000
        }
      },
      "source": [
        "print ('counts for internetuserate – Percentage of people with access to internet')\n",
        "c1 = df['internetuserate'].value_counts(sort=False)\n",
        "print (c1)\n",
        "print ('')"
      ],
      "execution_count": 20,
      "outputs": [
        {
          "output_type": "stream",
          "text": [
            "counts for internetuserate – Percentage of people with access to internet\n",
            "81.000000    1\n",
            "66.000000    1\n",
            "45.000000    1\n",
            "65.000000    1\n",
            "2.100213     1\n",
            "80.000000    1\n",
            "25.000000    1\n",
            "5.001375     1\n",
            "51.914184    1\n",
            "42.984580    1\n",
            "39.820178    1\n",
            "9.999954     1\n",
            "44.989947    1\n",
            "2.300027     1\n",
            "5.999836     1\n",
            "71.849124    1\n",
            "44.001025    1\n",
            "7.232224     1\n",
            "90.703555    1\n",
            "1.259934     1\n",
            "69.339971    1\n",
            "35.850437    1\n",
            "26.477223    1\n",
            "2.199998     1\n",
            "16.780037    1\n",
            "40.122235    1\n",
            "15.999650    1\n",
            "70.028599    1\n",
            "81.590397    1\n",
            "11.999971    1\n",
            "            ..\n",
            "2.699966     1\n",
            "12.006692    1\n",
            "1.280050     1\n",
            "74.247572    1\n",
            "28.731883    1\n",
            "81.338393    1\n",
            "43.366498    1\n",
            "6.497924     1\n",
            "65.387786    1\n",
            "12.500255    1\n",
            "47.867469    1\n",
            "12.349750    1\n",
            "43.055067    1\n",
            "40.650098    1\n",
            "45.986590    1\n",
            "54.992809    1\n",
            "33.382128    1\n",
            "65.808554    1\n",
            "44.570074    1\n",
            "7.499996     1\n",
            "88.770254    1\n",
            "1.700031     1\n",
            "4.170136     1\n",
            "56.300034    1\n",
            "51.280478    1\n",
            "36.000335    1\n",
            "41.000128    1\n",
            "33.616683    1\n",
            "60.119707    1\n",
            "1.699985     1\n",
            "Name: internetuserate, Length: 192, dtype: int64\n",
            "\n"
          ],
          "name": "stdout"
        }
      ]
    },
    {
      "cell_type": "code",
      "metadata": {
        "id": "MK9QMVKdps39",
        "colab_type": "code",
        "outputId": "5da91dae-8de2-40d4-b23e-31af9a5ba7ef",
        "colab": {
          "base_uri": "https://localhost:8080/",
          "height": 1000
        }
      },
      "source": [
        "print ('percentages for internetuserate - Percentage of people with access to internet')\n",
        "p1 = df['internetuserate'].value_counts(sort=False, normalize=True)\n",
        "print (p1)\n",
        "print ('')"
      ],
      "execution_count": 21,
      "outputs": [
        {
          "output_type": "stream",
          "text": [
            "percentages for internetuserate - Percentage of people with access to internet\n",
            "81.000000    0.005208\n",
            "66.000000    0.005208\n",
            "45.000000    0.005208\n",
            "65.000000    0.005208\n",
            "2.100213     0.005208\n",
            "80.000000    0.005208\n",
            "25.000000    0.005208\n",
            "5.001375     0.005208\n",
            "51.914184    0.005208\n",
            "42.984580    0.005208\n",
            "39.820178    0.005208\n",
            "9.999954     0.005208\n",
            "44.989947    0.005208\n",
            "2.300027     0.005208\n",
            "5.999836     0.005208\n",
            "71.849124    0.005208\n",
            "44.001025    0.005208\n",
            "7.232224     0.005208\n",
            "90.703555    0.005208\n",
            "1.259934     0.005208\n",
            "69.339971    0.005208\n",
            "35.850437    0.005208\n",
            "26.477223    0.005208\n",
            "2.199998     0.005208\n",
            "16.780037    0.005208\n",
            "40.122235    0.005208\n",
            "15.999650    0.005208\n",
            "70.028599    0.005208\n",
            "81.590397    0.005208\n",
            "11.999971    0.005208\n",
            "               ...   \n",
            "2.699966     0.005208\n",
            "12.006692    0.005208\n",
            "1.280050     0.005208\n",
            "74.247572    0.005208\n",
            "28.731883    0.005208\n",
            "81.338393    0.005208\n",
            "43.366498    0.005208\n",
            "6.497924     0.005208\n",
            "65.387786    0.005208\n",
            "12.500255    0.005208\n",
            "47.867469    0.005208\n",
            "12.349750    0.005208\n",
            "43.055067    0.005208\n",
            "40.650098    0.005208\n",
            "45.986590    0.005208\n",
            "54.992809    0.005208\n",
            "33.382128    0.005208\n",
            "65.808554    0.005208\n",
            "44.570074    0.005208\n",
            "7.499996     0.005208\n",
            "88.770254    0.005208\n",
            "1.700031     0.005208\n",
            "4.170136     0.005208\n",
            "56.300034    0.005208\n",
            "51.280478    0.005208\n",
            "36.000335    0.005208\n",
            "41.000128    0.005208\n",
            "33.616683    0.005208\n",
            "60.119707    0.005208\n",
            "1.699985     0.005208\n",
            "Name: internetuserate, Length: 192, dtype: float64\n",
            "\n"
          ],
          "name": "stdout"
        }
      ]
    },
    {
      "cell_type": "code",
      "metadata": {
        "id": "ls3aHV2nps4C",
        "colab_type": "code",
        "outputId": "7d361728-64ba-4612-e9c5-5c56c17e5998",
        "colab": {
          "base_uri": "https://localhost:8080/",
          "height": 458
        }
      },
      "source": [
        "print ('counts for polityscore - Democracy score')\n",
        "c2 = df['polityscore'].value_counts(sort=False)\n",
        "print (c2)\n",
        "print ('')"
      ],
      "execution_count": 22,
      "outputs": [
        {
          "output_type": "stream",
          "text": [
            "counts for polityscore - Democracy score\n",
            " 0.0      6\n",
            " 9.0     15\n",
            " 2.0      3\n",
            "-2.0      5\n",
            " 8.0     19\n",
            " 5.0      7\n",
            " 10.0    33\n",
            "-7.0     12\n",
            " 7.0     13\n",
            " 3.0      2\n",
            " 6.0     10\n",
            "-4.0      6\n",
            "-1.0      4\n",
            "-3.0      6\n",
            "-5.0      2\n",
            " 1.0      3\n",
            "-6.0      3\n",
            "-9.0      4\n",
            " 4.0      4\n",
            "-8.0      2\n",
            "-10.0     2\n",
            "Name: polityscore, dtype: int64\n",
            "\n"
          ],
          "name": "stdout"
        }
      ]
    },
    {
      "cell_type": "code",
      "metadata": {
        "id": "uY6vy-hMps4H",
        "colab_type": "code",
        "outputId": "fd059e26-10bb-48a7-dee9-5f26ffa68186",
        "colab": {
          "base_uri": "https://localhost:8080/",
          "height": 458
        }
      },
      "source": [
        "print ('percentages for polityscore - Democracy score')\n",
        "p2 = df['polityscore'].value_counts(sort=False, normalize=True)\n",
        "print (p2)\n",
        "print ('')"
      ],
      "execution_count": 23,
      "outputs": [
        {
          "output_type": "stream",
          "text": [
            "percentages for polityscore - Democracy score\n",
            " 0.0     0.037267\n",
            " 9.0     0.093168\n",
            " 2.0     0.018634\n",
            "-2.0     0.031056\n",
            " 8.0     0.118012\n",
            " 5.0     0.043478\n",
            " 10.0    0.204969\n",
            "-7.0     0.074534\n",
            " 7.0     0.080745\n",
            " 3.0     0.012422\n",
            " 6.0     0.062112\n",
            "-4.0     0.037267\n",
            "-1.0     0.024845\n",
            "-3.0     0.037267\n",
            "-5.0     0.012422\n",
            " 1.0     0.018634\n",
            "-6.0     0.018634\n",
            "-9.0     0.024845\n",
            " 4.0     0.024845\n",
            "-8.0     0.012422\n",
            "-10.0    0.012422\n",
            "Name: polityscore, dtype: float64\n",
            "\n"
          ],
          "name": "stdout"
        }
      ]
    },
    {
      "cell_type": "code",
      "metadata": {
        "id": "5UZY_WLQps4M",
        "colab_type": "code",
        "outputId": "61a3b60c-285b-40be-f6b7-52694299eb2d",
        "colab": {
          "base_uri": "https://localhost:8080/",
          "height": 1000
        }
      },
      "source": [
        "print ('counts for femaleemployrate – Female employee age 15+ (% of population)')\n",
        "c3 = df['femaleemployrate'].value_counts(sort=False)\n",
        "print (c3)\n",
        "print ('')"
      ],
      "execution_count": 24,
      "outputs": [
        {
          "output_type": "stream",
          "text": [
            "counts for femaleemployrate – Female employee age 15+ (% of population)\n",
            "55.500000    1\n",
            "49.000000    1\n",
            "35.500000    1\n",
            "40.500000    1\n",
            "41.700001    2\n",
            "45.500000    1\n",
            "73.000000    1\n",
            "48.500000    1\n",
            "44.000000    1\n",
            "51.000000    1\n",
            "47.500000    1\n",
            "13.000000    1\n",
            "56.000000    2\n",
            "48.000000    1\n",
            "66.599998    1\n",
            "38.099998    1\n",
            "42.000000    1\n",
            "57.500000    1\n",
            "69.000000    1\n",
            "66.500000    1\n",
            "36.000000    1\n",
            "30.100000    1\n",
            "40.299999    1\n",
            "58.200001    2\n",
            "38.000000    1\n",
            "36.500000    1\n",
            "40.099998    1\n",
            "19.000000    1\n",
            "80.500000    1\n",
            "57.000000    1\n",
            "            ..\n",
            "26.799999    1\n",
            "73.400002    1\n",
            "45.599998    1\n",
            "38.700001    1\n",
            "52.099998    1\n",
            "11.300000    1\n",
            "54.700001    1\n",
            "36.299999    1\n",
            "32.299999    1\n",
            "43.700001    1\n",
            "16.700001    1\n",
            "21.900000    1\n",
            "39.599998    3\n",
            "53.799999    1\n",
            "59.799999    1\n",
            "53.900002    1\n",
            "58.099998    2\n",
            "48.400002    1\n",
            "48.799999    2\n",
            "67.599998    1\n",
            "49.400002    2\n",
            "30.200001    1\n",
            "44.799999    1\n",
            "63.400002    1\n",
            "22.600000    1\n",
            "47.599998    1\n",
            "53.299999    1\n",
            "49.700001    1\n",
            "53.099998    1\n",
            "56.900002    1\n",
            "Name: femaleemployrate, Length: 153, dtype: int64\n",
            "\n"
          ],
          "name": "stdout"
        }
      ]
    },
    {
      "cell_type": "code",
      "metadata": {
        "id": "K5Tbzyb5ps4R",
        "colab_type": "code",
        "outputId": "fce8c7ce-637d-458b-fc81-0644f497a2a1",
        "colab": {
          "base_uri": "https://localhost:8080/",
          "height": 1000
        }
      },
      "source": [
        "print ('percentages for femaleemployrate - Female employee age 15+ (% of population')\n",
        "p3 = df['femaleemployrate'].value_counts(sort=False, normalize=True)\n",
        "print (p3)\n",
        "print ('')"
      ],
      "execution_count": 25,
      "outputs": [
        {
          "output_type": "stream",
          "text": [
            "percentages for femaleemployrate - Female employee age 15+ (% of population\n",
            "55.500000    0.005618\n",
            "49.000000    0.005618\n",
            "35.500000    0.005618\n",
            "40.500000    0.005618\n",
            "41.700001    0.011236\n",
            "45.500000    0.005618\n",
            "73.000000    0.005618\n",
            "48.500000    0.005618\n",
            "44.000000    0.005618\n",
            "51.000000    0.005618\n",
            "47.500000    0.005618\n",
            "13.000000    0.005618\n",
            "56.000000    0.011236\n",
            "48.000000    0.005618\n",
            "66.599998    0.005618\n",
            "38.099998    0.005618\n",
            "42.000000    0.005618\n",
            "57.500000    0.005618\n",
            "69.000000    0.005618\n",
            "66.500000    0.005618\n",
            "36.000000    0.005618\n",
            "30.100000    0.005618\n",
            "40.299999    0.005618\n",
            "58.200001    0.011236\n",
            "38.000000    0.005618\n",
            "36.500000    0.005618\n",
            "40.099998    0.005618\n",
            "19.000000    0.005618\n",
            "80.500000    0.005618\n",
            "57.000000    0.005618\n",
            "               ...   \n",
            "26.799999    0.005618\n",
            "73.400002    0.005618\n",
            "45.599998    0.005618\n",
            "38.700001    0.005618\n",
            "52.099998    0.005618\n",
            "11.300000    0.005618\n",
            "54.700001    0.005618\n",
            "36.299999    0.005618\n",
            "32.299999    0.005618\n",
            "43.700001    0.005618\n",
            "16.700001    0.005618\n",
            "21.900000    0.005618\n",
            "39.599998    0.016854\n",
            "53.799999    0.005618\n",
            "59.799999    0.005618\n",
            "53.900002    0.005618\n",
            "58.099998    0.011236\n",
            "48.400002    0.005618\n",
            "48.799999    0.011236\n",
            "67.599998    0.005618\n",
            "49.400002    0.011236\n",
            "30.200001    0.005618\n",
            "44.799999    0.005618\n",
            "63.400002    0.005618\n",
            "22.600000    0.005618\n",
            "47.599998    0.005618\n",
            "53.299999    0.005618\n",
            "49.700001    0.005618\n",
            "53.099998    0.005618\n",
            "56.900002    0.005618\n",
            "Name: femaleemployrate, Length: 153, dtype: float64\n",
            "\n"
          ],
          "name": "stdout"
        }
      ]
    },
    {
      "cell_type": "code",
      "metadata": {
        "id": "RIkhOQpDps4V",
        "colab_type": "code",
        "outputId": "5fb43260-01b4-4de7-e638-337693074fbd",
        "colab": {
          "base_uri": "https://localhost:8080/",
          "height": 1000
        }
      },
      "source": [
        "print ('counts for employrate – Totalmployee age 15+ (% of population)')\n",
        "c4 = df['employrate'].value_counts(sort=False)\n",
        "print (c4)\n",
        "print ('')"
      ],
      "execution_count": 26,
      "outputs": [
        {
          "output_type": "stream",
          "text": [
            "counts for employrate – Totalmployee age 15+ (% of population)\n",
            "50.500000    1\n",
            "61.500000    3\n",
            "46.000000    2\n",
            "64.500000    1\n",
            "63.500000    1\n",
            "51.000000    2\n",
            "68.000000    1\n",
            "56.000000    2\n",
            "56.500000    1\n",
            "59.000000    2\n",
            "53.500000    3\n",
            "81.500000    1\n",
            "66.000000    2\n",
            "83.000000    1\n",
            "64.599998    1\n",
            "64.199997    1\n",
            "60.500000    1\n",
            "42.500000    1\n",
            "54.500000    2\n",
            "77.000000    1\n",
            "42.000000    1\n",
            "65.000000    3\n",
            "50.700001    1\n",
            "61.700001    1\n",
            "50.900002    2\n",
            "61.000000    2\n",
            "66.199997    1\n",
            "57.900002    1\n",
            "76.000000    1\n",
            "49.500000    1\n",
            "            ..\n",
            "60.700001    1\n",
            "63.700001    1\n",
            "52.700001    1\n",
            "78.900002    1\n",
            "70.400002    2\n",
            "71.699997    1\n",
            "41.599998    1\n",
            "80.699997    1\n",
            "54.599998    1\n",
            "48.700001    2\n",
            "57.200001    1\n",
            "66.800003    1\n",
            "54.400002    1\n",
            "63.099998    1\n",
            "63.900002    1\n",
            "55.099998    1\n",
            "67.300003    1\n",
            "44.799999    1\n",
            "64.300003    1\n",
            "47.099998    1\n",
            "41.099998    1\n",
            "44.299999    1\n",
            "62.400002    1\n",
            "51.299999    1\n",
            "79.800003    1\n",
            "58.599998    1\n",
            "63.799999    2\n",
            "63.200001    1\n",
            "65.599998    1\n",
            "68.300003    1\n",
            "Name: employrate, Length: 139, dtype: int64\n",
            "\n"
          ],
          "name": "stdout"
        }
      ]
    },
    {
      "cell_type": "code",
      "metadata": {
        "id": "diY8LKg2ps4X",
        "colab_type": "code",
        "outputId": "fdaa2c78-9342-4913-a5ba-7fde8b8fa427",
        "colab": {
          "base_uri": "https://localhost:8080/",
          "height": 1000
        }
      },
      "source": [
        "print ('percentages for employrate - Total mployee age 15+ (% of population')\n",
        "p4 = df['employrate'].value_counts(sort=False, normalize=True)\n",
        "print (p4)\n",
        "print ('')"
      ],
      "execution_count": 27,
      "outputs": [
        {
          "output_type": "stream",
          "text": [
            "percentages for employrate - Total mployee age 15+ (% of population\n",
            "50.500000    0.005618\n",
            "61.500000    0.016854\n",
            "46.000000    0.011236\n",
            "64.500000    0.005618\n",
            "63.500000    0.005618\n",
            "51.000000    0.011236\n",
            "68.000000    0.005618\n",
            "56.000000    0.011236\n",
            "56.500000    0.005618\n",
            "59.000000    0.011236\n",
            "53.500000    0.016854\n",
            "81.500000    0.005618\n",
            "66.000000    0.011236\n",
            "83.000000    0.005618\n",
            "64.599998    0.005618\n",
            "64.199997    0.005618\n",
            "60.500000    0.005618\n",
            "42.500000    0.005618\n",
            "54.500000    0.011236\n",
            "77.000000    0.005618\n",
            "42.000000    0.005618\n",
            "65.000000    0.016854\n",
            "50.700001    0.005618\n",
            "61.700001    0.005618\n",
            "50.900002    0.011236\n",
            "61.000000    0.011236\n",
            "66.199997    0.005618\n",
            "57.900002    0.005618\n",
            "76.000000    0.005618\n",
            "49.500000    0.005618\n",
            "               ...   \n",
            "60.700001    0.005618\n",
            "63.700001    0.005618\n",
            "52.700001    0.005618\n",
            "78.900002    0.005618\n",
            "70.400002    0.011236\n",
            "71.699997    0.005618\n",
            "41.599998    0.005618\n",
            "80.699997    0.005618\n",
            "54.599998    0.005618\n",
            "48.700001    0.011236\n",
            "57.200001    0.005618\n",
            "66.800003    0.005618\n",
            "54.400002    0.005618\n",
            "63.099998    0.005618\n",
            "63.900002    0.005618\n",
            "55.099998    0.005618\n",
            "67.300003    0.005618\n",
            "44.799999    0.005618\n",
            "64.300003    0.005618\n",
            "47.099998    0.005618\n",
            "41.099998    0.005618\n",
            "44.299999    0.005618\n",
            "62.400002    0.005618\n",
            "51.299999    0.005618\n",
            "79.800003    0.005618\n",
            "58.599998    0.005618\n",
            "63.799999    0.011236\n",
            "63.200001    0.005618\n",
            "65.599998    0.005618\n",
            "68.300003    0.005618\n",
            "Name: employrate, Length: 139, dtype: float64\n",
            "\n"
          ],
          "name": "stdout"
        }
      ]
    },
    {
      "cell_type": "code",
      "metadata": {
        "id": "u6S2Xvb-UDXZ",
        "colab_type": "code",
        "colab": {}
      },
      "source": [
        "'internetuserate', 'polityscore', 'femaleemployrate', 'employrate'"
      ],
      "execution_count": 0,
      "outputs": []
    },
    {
      "cell_type": "code",
      "metadata": {
        "id": "6uynWnP7ps4c",
        "colab_type": "code",
        "colab": {
          "base_uri": "https://localhost:8080/",
          "height": 1000
        },
        "outputId": "2f769a96-ca5d-4893-affe-33523caf984a"
      },
      "source": [
        "pt1 = df.groupby('internetuserate').size() * 100 / len(df)\n",
        "print(pt1)\n",
        "ct2= df.groupby('internetuserate').size()\n",
        "print(ct2)"
      ],
      "execution_count": 29,
      "outputs": [
        {
          "output_type": "stream",
          "text": [
            "internetuserate\n",
            "0.210066     0.469484\n",
            "0.720009     0.469484\n",
            "0.749996     0.469484\n",
            "0.829997     0.469484\n",
            "0.999959     0.469484\n",
            "1.259934     0.469484\n",
            "1.280050     0.469484\n",
            "1.400061     0.469484\n",
            "1.699985     0.469484\n",
            "1.700031     0.469484\n",
            "2.100213     0.469484\n",
            "2.199998     0.469484\n",
            "2.259976     0.469484\n",
            "2.300027     0.469484\n",
            "2.450362     0.469484\n",
            "2.471948     0.469484\n",
            "2.599974     0.469484\n",
            "2.699966     0.469484\n",
            "2.999803     0.469484\n",
            "3.129962     0.469484\n",
            "3.654122     0.469484\n",
            "3.700003     0.469484\n",
            "3.860565     0.469484\n",
            "3.999977     0.469484\n",
            "4.170136     0.469484\n",
            "4.999875     0.469484\n",
            "5.001375     0.469484\n",
            "5.098265     0.469484\n",
            "5.379820     0.469484\n",
            "5.399667     0.469484\n",
            "               ...   \n",
            "71.849124    0.469484\n",
            "72.731576    0.469484\n",
            "73.733934    0.469484\n",
            "74.163040    0.469484\n",
            "74.247572    0.469484\n",
            "75.200000    0.469484\n",
            "75.895654    0.469484\n",
            "76.587538    0.469484\n",
            "77.498619    0.469484\n",
            "77.638535    0.469484\n",
            "77.996781    0.469484\n",
            "79.889777    0.469484\n",
            "80.000000    0.469484\n",
            "80.645455    0.469484\n",
            "81.000000    0.469484\n",
            "81.338393    0.469484\n",
            "81.590397    0.469484\n",
            "82.166660    0.469484\n",
            "82.515928    0.469484\n",
            "82.526898    0.469484\n",
            "83.002584    0.469484\n",
            "84.654514    0.469484\n",
            "84.731705    0.469484\n",
            "86.898845    0.469484\n",
            "88.770254    0.469484\n",
            "90.016190    0.469484\n",
            "90.079527    0.469484\n",
            "90.703555    0.469484\n",
            "93.277508    0.469484\n",
            "95.638113    0.469484\n",
            "Length: 192, dtype: float64\n",
            "internetuserate\n",
            "0.210066     1\n",
            "0.720009     1\n",
            "0.749996     1\n",
            "0.829997     1\n",
            "0.999959     1\n",
            "1.259934     1\n",
            "1.280050     1\n",
            "1.400061     1\n",
            "1.699985     1\n",
            "1.700031     1\n",
            "2.100213     1\n",
            "2.199998     1\n",
            "2.259976     1\n",
            "2.300027     1\n",
            "2.450362     1\n",
            "2.471948     1\n",
            "2.599974     1\n",
            "2.699966     1\n",
            "2.999803     1\n",
            "3.129962     1\n",
            "3.654122     1\n",
            "3.700003     1\n",
            "3.860565     1\n",
            "3.999977     1\n",
            "4.170136     1\n",
            "4.999875     1\n",
            "5.001375     1\n",
            "5.098265     1\n",
            "5.379820     1\n",
            "5.399667     1\n",
            "            ..\n",
            "71.849124    1\n",
            "72.731576    1\n",
            "73.733934    1\n",
            "74.163040    1\n",
            "74.247572    1\n",
            "75.200000    1\n",
            "75.895654    1\n",
            "76.587538    1\n",
            "77.498619    1\n",
            "77.638535    1\n",
            "77.996781    1\n",
            "79.889777    1\n",
            "80.000000    1\n",
            "80.645455    1\n",
            "81.000000    1\n",
            "81.338393    1\n",
            "81.590397    1\n",
            "82.166660    1\n",
            "82.515928    1\n",
            "82.526898    1\n",
            "83.002584    1\n",
            "84.654514    1\n",
            "84.731705    1\n",
            "86.898845    1\n",
            "88.770254    1\n",
            "90.016190    1\n",
            "90.079527    1\n",
            "90.703555    1\n",
            "93.277508    1\n",
            "95.638113    1\n",
            "Length: 192, dtype: int64\n"
          ],
          "name": "stdout"
        }
      ]
    },
    {
      "cell_type": "code",
      "metadata": {
        "id": "jDUGLbJTUJYi",
        "colab_type": "code",
        "colab": {
          "base_uri": "https://localhost:8080/",
          "height": 300
        },
        "outputId": "e2515043-3b0b-4029-b6d2-52a6e3ea069d"
      },
      "source": [
        "df[num_cols].describe()"
      ],
      "execution_count": 30,
      "outputs": [
        {
          "output_type": "execute_result",
          "data": {
            "text/html": [
              "<div>\n",
              "<style scoped>\n",
              "    .dataframe tbody tr th:only-of-type {\n",
              "        vertical-align: middle;\n",
              "    }\n",
              "\n",
              "    .dataframe tbody tr th {\n",
              "        vertical-align: top;\n",
              "    }\n",
              "\n",
              "    .dataframe thead th {\n",
              "        text-align: right;\n",
              "    }\n",
              "</style>\n",
              "<table border=\"1\" class=\"dataframe\">\n",
              "  <thead>\n",
              "    <tr style=\"text-align: right;\">\n",
              "      <th></th>\n",
              "      <th>internetuserate</th>\n",
              "      <th>polityscore</th>\n",
              "      <th>femaleemployrate</th>\n",
              "      <th>employrate</th>\n",
              "    </tr>\n",
              "  </thead>\n",
              "  <tbody>\n",
              "    <tr>\n",
              "      <th>count</th>\n",
              "      <td>192.000000</td>\n",
              "      <td>161.000000</td>\n",
              "      <td>178.000000</td>\n",
              "      <td>178.000000</td>\n",
              "    </tr>\n",
              "    <tr>\n",
              "      <th>mean</th>\n",
              "      <td>35.632716</td>\n",
              "      <td>3.689441</td>\n",
              "      <td>47.549438</td>\n",
              "      <td>58.635955</td>\n",
              "    </tr>\n",
              "    <tr>\n",
              "      <th>std</th>\n",
              "      <td>27.780285</td>\n",
              "      <td>6.314899</td>\n",
              "      <td>14.625743</td>\n",
              "      <td>10.519454</td>\n",
              "    </tr>\n",
              "    <tr>\n",
              "      <th>min</th>\n",
              "      <td>0.210066</td>\n",
              "      <td>-10.000000</td>\n",
              "      <td>11.300000</td>\n",
              "      <td>32.000000</td>\n",
              "    </tr>\n",
              "    <tr>\n",
              "      <th>25%</th>\n",
              "      <td>9.999604</td>\n",
              "      <td>-2.000000</td>\n",
              "      <td>38.725000</td>\n",
              "      <td>51.225000</td>\n",
              "    </tr>\n",
              "    <tr>\n",
              "      <th>50%</th>\n",
              "      <td>31.810121</td>\n",
              "      <td>6.000000</td>\n",
              "      <td>47.549999</td>\n",
              "      <td>58.699999</td>\n",
              "    </tr>\n",
              "    <tr>\n",
              "      <th>75%</th>\n",
              "      <td>56.416046</td>\n",
              "      <td>9.000000</td>\n",
              "      <td>55.875000</td>\n",
              "      <td>64.975000</td>\n",
              "    </tr>\n",
              "    <tr>\n",
              "      <th>max</th>\n",
              "      <td>95.638113</td>\n",
              "      <td>10.000000</td>\n",
              "      <td>83.300003</td>\n",
              "      <td>83.199997</td>\n",
              "    </tr>\n",
              "  </tbody>\n",
              "</table>\n",
              "</div>"
            ],
            "text/plain": [
              "       internetuserate  polityscore  femaleemployrate  employrate\n",
              "count       192.000000   161.000000        178.000000  178.000000\n",
              "mean         35.632716     3.689441         47.549438   58.635955\n",
              "std          27.780285     6.314899         14.625743   10.519454\n",
              "min           0.210066   -10.000000         11.300000   32.000000\n",
              "25%           9.999604    -2.000000         38.725000   51.225000\n",
              "50%          31.810121     6.000000         47.549999   58.699999\n",
              "75%          56.416046     9.000000         55.875000   64.975000\n",
              "max          95.638113    10.000000         83.300003   83.199997"
            ]
          },
          "metadata": {
            "tags": []
          },
          "execution_count": 30
        }
      ]
    },
    {
      "cell_type": "code",
      "metadata": {
        "id": "WjVqS0QpUphh",
        "colab_type": "code",
        "colab": {}
      },
      "source": [
        ""
      ],
      "execution_count": 0,
      "outputs": []
    }
  ]
}