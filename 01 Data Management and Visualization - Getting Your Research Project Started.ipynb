{
 "cells": [
  {
   "cell_type": "markdown",
   "metadata": {},
   "source": [
    "GapMinder is a non-profit venture promoting sustainable global development. It seeks to increase the use and understanding of statistics about social, economic, and environmental development at local, national, and global levels.\n",
    "\n",
    "After looking through the codebook for the GapMinder, I would like to explor the relationship between the number of internet user (Internetuserate) and the Democracy socre (polityscore). Specifically, I would like to exam if these two variables are associated.\n",
    "\n",
    "Additionally, internet brought huge impact into in almost every aspect of life, I would also like to see if there is any correlation between internet user rate and femal employ rate and employ rate.\n",
    "\n",
    "There is an argument that if internet actually helps or harms democracy. Some people believe that information and ideas spread faster and wider through internet, on the contrast, some believe internet can be manipulated by the government.  Timothy Kirkhope indicates that digital technology is changing statecraft for the better on the Independent while Robert Diab points out that internet is a big fail and does not help democracy on The Conversation.\n",
    "\n",
    "Therefore, the best way to exam the evidence is to look at data. My assumption is that there is a positive correlation between internet user rate and the two employment rate, and there is also a positive correlation between internet user rate and the polity score.\n"
   ]
  }
 ],
 "metadata": {
  "kernelspec": {
   "display_name": "Python 3",
   "language": "python",
   "name": "python3"
  },
  "language_info": {
   "codemirror_mode": {
    "name": "ipython",
    "version": 3
   },
   "file_extension": ".py",
   "mimetype": "text/x-python",
   "name": "python",
   "nbconvert_exporter": "python",
   "pygments_lexer": "ipython3",
   "version": "3.7.1"
  }
 },
 "nbformat": 4,
 "nbformat_minor": 2
}
